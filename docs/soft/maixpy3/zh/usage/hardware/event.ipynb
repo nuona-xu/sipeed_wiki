{
 "cells": [
  {
   "cell_type": "markdown",
   "metadata": {},
   "source": [
    "---\n",
    "\n",
    "title: 输入事件设备\n",
    "keywords: Maixpy3, 输入事件 event\n",
    "desc: maixpy3 doc: 输入事件 event\n",
    "\n",
    "---"
   ]
  },
  {
   "cell_type": "markdown",
   "metadata": {},
   "source": [
    "| 更新时间 | 负责人 | 内容 | 备注 |\n",
    "| --- | --- | --- | --- |\n",
    "| 2022年1月4日 | Rui | 初次编写文档 | --- |\n",
    "| 2022年1月8日 | Rui | 修改文档的编写方式 | 使用 Jupyter notebook 进行编写文档 |\n",
    "| 2022年1月18日 | Rui | 修改文档，增加效果图 | 外设文档通过测试的平台有 MaixII-Dock，使用的是 MaixPy3 0.4.0 |\n",
    "\n",
    "输入事件是 Linux 系统中都存在的一种特殊设备（/dev/event/input），例如点击鼠标、移动鼠标、敲击键盘，都是通过事件检测进行的。我们也将事件检测给封装到 MaixPy3 当中，可以直接进行使用减少繁琐的操作。\n",
    "\n",
    "## 使用方法\n",
    "\n",
    "### 准备\n",
    "\n",
    "接上事件设备，例如树莓派，接上键盘鼠标等事件检测设备。对于 MaixII-Dock，开发板上的按键是两个事件设备\n",
    "![111](./../asserts/M2Dock_pin.jpg)\n",
    "\n",
    "\n",
    "### 代码\n",
    "\n",
    "下面是在 MaixII-Dock 上运行的代码，用于检测两个按键的输入。如果外接别的设备，这需要修改 `event.InputDevice()` 中的参数。"
   ]
  },
  {
   "cell_type": "code",
   "execution_count": 1,
   "metadata": {},
   "outputs": [
    {
     "name": "stdout",
     "output_type": "stream",
     "text": [
      "[ rpyc-kernel ]( running at Mon Jan 17 18:30:27 2022 )\n",
      "press key S1\n",
      "press sum: 1\n",
      "press key S1\n",
      "press key S2\n",
      "press sum: 2\n",
      "press key S2\n",
      "press key S1\n",
      "press sum: 3\n",
      "press key S1\n",
      "press key S2\n",
      "press sum: 4\n",
      "press key S2\n",
      "press key S1\n",
      "press sum: 5\n",
      "press key S1\n",
      "press key S2\n",
      "press sum: 6\n",
      "press key S2\n"
     ]
    },
    {
     "data": {
      "text/plain": [
       "\r\n",
       "Traceback (most recent call last):\r\n",
       "  File \"<string>\", line unknown, in <module>\r\n",
       "Remote.KeyboardInterrupt\r\n"
      ]
     },
     "execution_count": 1,
     "metadata": {},
     "output_type": "execute_result"
    }
   ],
   "source": [
    "from maix import event\n",
    "from select import select\n",
    "\n",
    "count = 0\n",
    "dev = event.InputDevice('/dev/input/event0')\n",
    "while True:\n",
    "\tselect([dev], [], [])\n",
    "\tfor event in dev.read():\n",
    "\t\t# print(event)\n",
    "\t\tif event.code == 0x02:\n",
    "\t\t\tprint('press key S1')\n",
    "\t\tif event.code == 0x03:\n",
    "\t\t\tprint('press key S2')\n",
    "\t\tif event.value == 1 and event.code != 0:\n",
    "\t\t\tcount += 1\n",
    "\t\t\tprint('press sum:', count)"
   ]
  },
  {
   "cell_type": "markdown",
   "metadata": {},
   "source": [
    "运行代码之后，按下按键则会有内容打印出来\n",
    "\n",
    "通过 `/dev/input/event0` 进行事件设备的选择，可以通过 `os.system(\"ls /dev/input/\")` 进行查看接入了多少事件设备\n",
    "\n",
    "> 详细请看 [python-evdev](https://python-evdev.readthedocs.io/) 或了解底层 linux evdev 输入子系统。"
   ]
  }
 ],
 "metadata": {
  "kernelspec": {
   "display_name": "RPyc-Python",
   "language": "Python",
   "name": "rpyc"
  }
 },
 "nbformat": 4,
 "nbformat_minor": 2
}
